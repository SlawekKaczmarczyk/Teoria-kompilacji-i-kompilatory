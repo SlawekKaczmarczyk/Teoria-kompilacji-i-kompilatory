{
 "cells": [
  {
   "cell_type": "code",
   "execution_count": 1,
   "metadata": {},
   "outputs": [],
   "source": [
    "import lexer_parser as lexer_parser\n",
    "lexer = lexer_parser.lexer\n",
    "parser = lexer_parser.parser\n",
    "from state import State\n",
    "\n",
    "def run_code(code,state=None):\n",
    "    result = parser.parse(lexer.input(code))\n",
    "    if state != None:\n",
    "        result.grant_state(state)\n",
    "    result.evaluate()\n",
    "    \n",
    "    return result.state"
   ]
  },
  {
   "cell_type": "code",
   "execution_count": 8,
   "metadata": {},
   "outputs": [
    {
     "name": "stdout",
     "output_type": "stream",
     "text": [
      "Depth: 3\n",
      "Depth: 2\n",
      "Depth: 1\n",
      "Depth: 0\n",
      "0\n"
     ]
    }
   ],
   "source": [
    "code =\"\"\"\n",
    "\n",
    "fun x(i){\n",
    "    print \"Depth: \" + i.STR();\n",
    "    if i = 0 {\n",
    "        return 0;\n",
    "    } else {\n",
    "    return x(i-1);\n",
    "    };\n",
    "\n",
    "};\n",
    "\n",
    "var y <- x(3);\n",
    "\n",
    "print y;\n",
    "\n",
    "\"\"\"\n",
    "state = run_code(code)\n"
   ]
  },
  {
   "cell_type": "code",
   "execution_count": null,
   "metadata": {},
   "outputs": [],
   "source": []
  }
 ],
 "metadata": {
  "kernelspec": {
   "display_name": "Python 3",
   "language": "python",
   "name": "python3"
  },
  "language_info": {
   "codemirror_mode": {
    "name": "ipython",
    "version": 3
   },
   "file_extension": ".py",
   "mimetype": "text/x-python",
   "name": "python",
   "nbconvert_exporter": "python",
   "pygments_lexer": "ipython3",
   "version": "3.7.4"
  }
 },
 "nbformat": 4,
 "nbformat_minor": 4
}
