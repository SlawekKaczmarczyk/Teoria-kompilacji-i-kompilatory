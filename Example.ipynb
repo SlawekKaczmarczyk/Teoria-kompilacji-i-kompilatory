{
 "cells": [
  {
   "cell_type": "code",
   "execution_count": 1,
   "metadata": {},
   "outputs": [],
   "source": [
    "import lexer_parser as lexer_parser\n",
    "from state import State\n",
    "from lang_types import *\n",
    "\n",
    "def run_code(code,state=None):\n",
    "    \n",
    "    lexer = lexer_parser.lexer\n",
    "    parser = lexer_parser.parser\n",
    "    result = parser.parse(lexer.input(code))\n",
    "    if state != None:\n",
    "        result.grant_state(state)\n",
    "    result.evaluate()\n",
    "    \n",
    "    return result.state"
   ]
  },
  {
   "cell_type": "code",
   "execution_count": 31,
   "metadata": {},
   "outputs": [
    {
     "name": "stdout",
     "output_type": "stream",
     "text": [
      "-253\n",
      "0\n",
      "1\n",
      "2\n",
      "3\n",
      "4\n",
      "5\n",
      "6\n",
      "7\n",
      "8\n",
      "9\n",
      "Suma od 1 do 5:\n",
      "15\n"
     ]
    }
   ],
   "source": [
    "code = \"\"\"\n",
    "    var x <- 11;\n",
    "    var y <- -23;\n",
    "    var z <- x*y;\n",
    "    \n",
    "    if x>>y {\n",
    "        print z;\n",
    "    };\n",
    "    \n",
    "    var q <- 0;\n",
    "    \n",
    "    fun foo(q){\n",
    "       print q;\n",
    "    };\n",
    "    \n",
    "    print \"Odliczanie:\";\n",
    "    until q = 10 {\n",
    "       foo(q);\n",
    "       q <- q+1;\n",
    "    };\n",
    "    \n",
    "    fun sum(q){\n",
    "        var ret <- 0;\n",
    "        if q>>0 {\n",
    "            ret <- q+sum(q-1);\n",
    "        };\n",
    "        return ret;\n",
    "    };\n",
    "    \n",
    "    var w <- sum(5);\n",
    "    print \"Suma od 1 do 5:\";\n",
    "    print w;\n",
    "    \n",
    "    \n",
    "    \n",
    "    \"\"\"\n",
    "state = run_code(code)"
   ]
  },
  {
   "cell_type": "code",
   "execution_count": null,
   "metadata": {},
   "outputs": [],
   "source": []
  }
 ],
 "metadata": {
  "kernelspec": {
   "display_name": "Python 3",
   "language": "python",
   "name": "python3"
  },
  "language_info": {
   "codemirror_mode": {
    "name": "ipython",
    "version": 3
   },
   "file_extension": ".py",
   "mimetype": "text/x-python",
   "name": "python",
   "nbconvert_exporter": "python",
   "pygments_lexer": "ipython3",
   "version": "3.7.6"
  }
 },
 "nbformat": 4,
 "nbformat_minor": 4
}
