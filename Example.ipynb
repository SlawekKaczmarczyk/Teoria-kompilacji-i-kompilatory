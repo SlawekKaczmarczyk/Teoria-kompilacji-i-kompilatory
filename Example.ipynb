{
 "cells": [
  {
   "cell_type": "code",
   "execution_count": 2,
   "metadata": {},
   "outputs": [],
   "source": [
    "import lexer_parser as lexer_parser\n",
    "from state import State\n",
    "from lang_types import *\n",
    "\n",
    "def run_code(code,state=None):\n",
    "    \n",
    "    lexer = lexer_parser.lexer\n",
    "    parser = lexer_parser.parser\n",
    "    result = parser.parse(lexer.input(code))\n",
    "    if state != None:\n",
    "        result.grant_state(state)\n",
    "    result.evaluate()\n",
    "    \n",
    "    return result.state"
   ]
  },
  {
   "cell_type": "code",
   "execution_count": 3,

   "metadata": {},
   "outputs": [
    {
     "name": "stdout",
     "output_type": "stream",
     "text": [
      "zmienne i działania:\n",
      "34\n",
      "********************\n",
      "Odliczanie:\n",
      "0\n",
      "1\n",
      "2\n",
      "3\n",
      "4\n",
      "5\n",
      "6\n",
      "7\n",
      "8\n",
      "9\n"
     ]
    }
   ],
   "source": [
    "code = \"\"\"\n",
    "\n",
    "    fun break(){\n",
    "        print \"********************\";\n",
    "    };\n",
    "    \n",
    "    print \"zmienne i działania:\";\n",
    "    var x <- 11;\n",
    "    var y <- 23;\n",
    "    var z <- x*y;\n",
    "    \n",
    "    if x>>y {\n",
    "        print z;\n",
    "    };\n",
    "    if x<<y {\n",
    "        z <- x+y;\n",
    "        print z;\n",
    "    };\n",
    "    \n",
    "    \n",
    "    break();\n",
    "    \n",
    "    var q <- 0;\n",
    "    \n",
    "    fun foo(q){\n",
    "       print q;\n",
    "    };\n",
    "    \n",
    "    \n",
    "    \n",
    "    print \"Odliczanie:\";\n",
    "    until q = 10 {\n",
    "       foo(q);\n",
    "       q <- q+1;\n",
    "    };\n",
    "    \n",
    "    \"\"\"\n",
    "state = run_code(code)"
   ]
  },
  {
   "cell_type": "code",

   "execution_count": 28,
   "metadata": {},
   "outputs": [
    {
     "name": "stdout",
     "output_type": "stream",
     "text": [
      "12\n",
      "5\n",
      "********************\n",
      "Funkcja: 1\n",
      "********************\n",
      "Zmienianie typu:\n",
      "tekst\n",
      "1\n",
      "********************\n"
     ]
    }
   ],
   "source": [
    "code = \"\"\"\n",
    "    fun break(){\n",
    "        return 1;\n",
    "        print \"********************\";\n",
    "    };\n",
    "    \n",
    "    print 1.PLUS(11);\n",
    "    print 10.DIVIDE(2);\n",
    "    \n",
    "    var br <- break();\n",
    "    print \"Funkcja: \" + br.STR();\n",
    "    \n",
    "    break();\n",
    "    print \"Zmienianie typu:\";\n",
    "    \n",
    "    var s <- \"tekst\";\n",
    "    print s;\n",
    "    s <- 1;\n",
    "    print s;\n",
    "    \n",
    "    break();\n",
    "    \n",
    "\n",
    "   \n",
    "   \"\"\"\n",
    "state = run_code(code)"
   ]
  },
  {
   "cell_type": "code",
   "execution_count": 3,
   "metadata": {},
   "outputs": [
    {
     "name": "stdout",
     "output_type": "stream",
     "text": [
      "Suma od 1 do 5:\n",
      "added... 0\n",
      "result is now: 0\n",
      "added... 1\n",
      "result is now: 1\n",
      "added... 2\n",
      "result is now: 3\n",
      "added... 3\n",
      "result is now: 6\n",
      "added... 4\n",
      "result is now: 10\n",
      "added... 5\n",
      "result is now: 15\n",
      "Wynik: 15\n"
     ]
    }
   ],
   "source": [
    "code = \"\"\"\n",
    "    print \"Suma od 1 do 5:\";\n",
    "    \n",
    "    fun sum(q){\n",
    "        var ret <- 0;\n",
    "        if q>>0 {\n",
    "            ret <- q+sum(q-1);\n",
    "        };\n",
    "        return ret;\n",
    "        print \"added... \"+ q.STR();\n",
    "        print \"result is now: \" + ret.STR();\n",
    "    };\n",
    "    \n",
    "    var w <- sum(5);\n",
    "    print \"Wynik: \"+w.STR();\n",
    "    \n",
    "    \"\"\"\n",
    "state = run_code(code)"
   ]
  },
  {
   "cell_type": "code",

   "execution_count": 5,

   "metadata": {},
   "outputs": [
    {
     "name": "stdout",
     "output_type": "stream",
     "text": [
      "12\n",
      "5\n",
      "********************\n",
      "Funkcja: 1\n",
      "********************\n",
      "Zmienianie typu:\n",
      "tekst\n",
      "1\n",
      "********************\n"
     ]
    }
   ],
   "source": [
    "CODE = \"\"\"\n",
    "print \"Referencje: \";\n",
    "    \n",
    "    var w <- \"zmienna\";\n",
    "    print w;\n",
    "    \n",
    "    var t <= w;\n",
    "    print t;\n",
    "    print t.REF();\n",
    "    \n",
    "    var tt <= t;\n",
    "    print tt;\n",
    "    print tt.REF();\n",
    "           \"\"\"\n",
    "state = run_code(code)\n"
   ]
  },
  {
   "cell_type": "code",
   "execution_count": 30,
   "metadata": {},
   "outputs": [
    {
     "name": "stdout",
     "output_type": "stream",
     "text": [
      "Funkcja z boolean:\n",
      "false\n",
      "true\n"
     ]
    }
   ],
   "source": [
    "code = \"\"\"\n",
    "    print \"Funkcja z boolean:\";\n",
    "        \n",
    "    fun checkx(x){\n",
    "        return true;\n",
    "        if x=0{\n",
    "            return false;\n",
    "        };\n",
    "    };\n",
    "    \n",
    "    var c <- checkx(0);\n",
    "    print c;\n",
    "    var c <- checkx(1);\n",
    "    print c;\n",
    "       \"\"\"\n",
    "state = run_code(code)\n"
   ]
  },
  {
   "cell_type": "code",
   "execution_count": null,
   "metadata": {},
   "outputs": [],
   "source": []
  }
 ],
 "metadata": {
  "kernelspec": {
   "display_name": "Python 3",
   "language": "python",
   "name": "python3"
  },
  "language_info": {
   "codemirror_mode": {
    "name": "ipython",
    "version": 3
   },
   "file_extension": ".py",
   "mimetype": "text/x-python",
   "name": "python",
   "nbconvert_exporter": "python",
   "pygments_lexer": "ipython3",
   "version": "3.7.4"
  }
 },
 "nbformat": 4,
 "nbformat_minor": 4
}
