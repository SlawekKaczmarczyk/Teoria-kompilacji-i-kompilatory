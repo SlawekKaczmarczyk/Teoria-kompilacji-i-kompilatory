{
 "cells": [
  {
   "cell_type": "code",
   "execution_count": 1,
   "metadata": {},
   "outputs": [],
   "source": [
    "import lexer_parser as lexer_parser\n",
    "lexer = lexer_parser.lexer\n",
    "parser = lexer_parser.parser\n",
    "from state import State\n",
    "\n",
    "def run_code(code,state=None):\n",
    "    result = parser.parse(lexer.input(code))\n",
    "    if state != None:\n",
    "        result.grant_state(state)\n",
    "    result.evaluate()\n",
    "    \n",
    "    return result.state\n"
   ]
  },
  {
   "cell_type": "code",
   "execution_count": 2,
   "metadata": {},
   "outputs": [
    {
     "name": "stdout",
     "output_type": "stream",
     "text": [
      "LexToken(CREATE_VAR,'var',2,9)\n",
      "LexToken(NAME,'x',2,13)\n",
      "LexToken(ASSIGN,'<-',2,15)\n",
      "LexToken(NUMBER,<lang_types.Number object at 0x0000023BD9692388>,2,18)\n",
      "LexToken(SEMICOLON,';',2,19)\n",
      "LexToken(IF,'if',3,29)\n",
      "LexToken(TRUE,'true',3,32)\n",
      "LexToken(OPEN_BRACKET,'{',3,37)\n",
      "LexToken(CREATE_VAR,'var',4,51)\n",
      "LexToken(NAME,'x',4,55)\n",
      "LexToken(ASSIGN,'<-',4,57)\n",
      "LexToken(NUMBER,<lang_types.Number object at 0x0000023BD9692288>,4,60)\n",
      "LexToken(SEMICOLON,';',4,61)\n",
      "LexToken(PRINT,'print',5,75)\n",
      "LexToken(NAME,'x',5,81)\n",
      "LexToken(SEMICOLON,';',5,82)\n",
      "LexToken(CLOSE_BRACKET,'}',6,92)\n",
      "LexToken(SEMICOLON,';',6,93)\n",
      "LexToken(PRINT,'print',7,103)\n",
      "LexToken(NAME,'x',7,109)\n",
      "LexToken(SEMICOLON,';',7,110)\n",
      "\n",
      "==DONE==\n"
     ]
    }
   ],
   "source": [
    "data = \"\"\" var x9wj3_ = 1+1 -*/; : 34 { } () ., print null return fun type if else <- \"this is string/*+$\" true false\"\"\"\n",
    "\n",
    "data =\"\"\"\n",
    "        var x <- 0;\n",
    "        if true {\n",
    "            var x <- 2;\n",
    "            print x;\n",
    "        };\n",
    "        print x;\n",
    "\n",
    "        \"\"\"\n",
    "\n",
    "\n",
    "data =\"\"\"\n",
    "        var x <- 0;\n",
    "        if true {\n",
    "            var x <- 2;\n",
    "            print x;\n",
    "        };\n",
    "        print x;\n",
    "\n",
    "\"\"\"\n",
    "\n",
    "lexer.input(data)\n",
    "\n",
    "while True:\n",
    "     tok = lexer.token()\n",
    "     if not tok: \n",
    "         break\n",
    "     print(tok)\n",
    "    \n",
    "print('\\n==DONE==')"
   ]
  },
  {
   "cell_type": "code",
   "execution_count": 4,
   "metadata": {},
   "outputs": [
    {
     "name": "stdout",
     "output_type": "stream",
     "text": [
      "returning variable x from namespace root\n",
      "returning variable x from namespace root\n",
      "returning variable y from namespace root\n",
      "returning variable z from namespace root\n",
      "<lang_types.Number object at 0x0000023BD9607E08>\n",
      "{'root': {'x': <lang_types.Number object at 0x0000023BD9724908>, 'y': <lang_types.Number object at 0x0000023BD9724788>, 'z': <lang_types.Number object at 0x0000023BD9607E08>}}\n"
     ]
    }
   ],
   "source": [
    "code = \"\"\"\n",
    "var x <-1;\n",
    "var y <- x.PLUS(1);\n",
    "var z <- x + y;\n",
    "print z;\n",
    "\"\"\"\n",
    "state = run_code(code)\n",
    "print(state.namespaces)"
   ]
  },
  {
   "cell_type": "code",
   "execution_count": 11,
   "metadata": {},
   "outputs": [
    {
     "name": "stdout",
     "output_type": "stream",
     "text": [
      "state after execution: {'root': {'x': <lang_types.String object at 0x000002553D2AAD08>}}\n",
      "\n"
     ]
    }
   ],
   "source": [
    "print(f\"state after execution: {state.namespaces}\")\n",
    "print()\n",
    "    "
   ]
  },
  {
   "cell_type": "code",
   "execution_count": 4,
   "metadata": {},
   "outputs": [
    {
     "name": "stdout",
     "output_type": "stream",
     "text": [
      "(1, 1)\n",
      "2\n"
     ]
    }
   ],
   "source": [
    "from lang_types import *\n",
    "from expression import *\n",
    "\n",
    "\n",
    "\n",
    "def x (*args):\n",
    "    print(args)\n",
    "    print(len(args))\n",
    "    \n",
    "    \n",
    "x(1,*[1])\n",
    "\n",
    "\n",
    "\n",
    "\n",
    "\n"
   ]
  },
  {
   "cell_type": "code",
   "execution_count": null,
   "metadata": {},
   "outputs": [],
   "source": []
  },
  {
   "cell_type": "code",
   "execution_count": null,
   "metadata": {},
   "outputs": [],
   "source": []
  }
 ],
 "metadata": {
  "kernelspec": {
   "display_name": "Python 3",
   "language": "python",
   "name": "python3"
  },
  "language_info": {
   "codemirror_mode": {
    "name": "ipython",
    "version": 3
   },
   "file_extension": ".py",
   "mimetype": "text/x-python",
   "name": "python",
   "nbconvert_exporter": "python",
   "pygments_lexer": "ipython3",
   "version": "3.7.4"
  }
 },
 "nbformat": 4,
 "nbformat_minor": 4
}
