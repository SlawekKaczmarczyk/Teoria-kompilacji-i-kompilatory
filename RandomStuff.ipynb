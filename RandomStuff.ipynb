{
 "cells": [
  {
   "cell_type": "code",
   "execution_count": 5,
   "metadata": {},
   "outputs": [],
   "source": [
    "import lexer_parser as lexer_parser\n",
    "lexer = lexer_parser.lexer\n",
    "parser = lexer_parser.parser\n",
    "from state import State\n",
    "\n",
    "def run_code(code,state=None):\n",
    "    result = parser.parse(lexer.input(code))\n",
    "    if state != None:\n",
    "        result.grant_state(state)\n",
    "    result.evaluate()\n",
    "    \n",
    "    return result.state\n"
   ]
  },
  {
   "cell_type": "code",
   "execution_count": 6,
   "metadata": {},
   "outputs": [
    {
     "name": "stdout",
     "output_type": "stream",
     "text": [
      "LexToken(CREATE_VAR,'var',12,9)\n",
      "LexToken(NAME,'x',12,13)\n",
      "LexToken(ASSIGN,'<-',12,15)\n",
      "LexToken(NUMBER,<lang_types.Number object at 0x000002386F560988>,12,18)\n",
      "LexToken(SEMICOLON,';',12,19)\n",
      "LexToken(IF,'if',13,29)\n",
      "LexToken(TRUE,'true',13,32)\n",
      "LexToken(OPEN_BRACKET,'{',13,37)\n",
      "LexToken(CREATE_VAR,'var',14,51)\n",
      "LexToken(NAME,'x',14,55)\n",
      "LexToken(ASSIGN,'<-',14,57)\n",
      "LexToken(NUMBER,<lang_types.Number object at 0x000002386F560E48>,14,60)\n",
      "LexToken(SEMICOLON,';',14,61)\n",
      "LexToken(PRINT,'print',15,75)\n",
      "LexToken(NAME,'x',15,81)\n",
      "LexToken(SEMICOLON,';',15,82)\n",
      "LexToken(CLOSE_BRACKET,'}',16,92)\n",
      "LexToken(SEMICOLON,';',16,93)\n",
      "LexToken(PRINT,'print',17,103)\n",
      "LexToken(NAME,'x',17,109)\n",
      "LexToken(SEMICOLON,';',17,110)\n",
      "\n",
      "==DONE==\n"
     ]
    }
   ],
   "source": [
    "data = \"\"\" var x9wj3_ = 1+1 -*/; : 34 { } () ., print null return fun type if else <- \"this is string/*+$\" true false\"\"\"\n",
    "\n",
    "data =\"\"\"\n",
    "        var x <- 0;\n",
    "        if true {\n",
    "            var x <- 2;\n",
    "            print x;\n",
    "        };\n",
    "        print x;\n",
    "\n",
    "        \"\"\"\n",
    "\n",
    "\n",
    "data =\"\"\"\n",
    "        var x <- 0;\n",
    "        if true {\n",
    "            var x <- 2;\n",
    "            print x;\n",
    "        };\n",
    "        print x;\n",
    "\n",
    "\"\"\"\n",
    "\n",
    "lexer.input(data)\n",
    "\n",
    "while True:\n",
    "     tok = lexer.token()\n",
    "     if not tok: \n",
    "         break\n",
    "     print(tok)\n",
    "    \n",
    "print('\\n==DONE==')"
   ]
  },
  {
   "cell_type": "code",
   "execution_count": 7,
   "metadata": {},
   "outputs": [
    {
     "name": "stdout",
     "output_type": "stream",
     "text": [
      "{'root': {'x': <lang_types.String object at 0x000002386F560B08>}}\n"
     ]
    }
   ],
   "source": [
    "code = \"\"\"\n",
    "var x <-\"asd\";\n",
    "\"\"\"\n",
    "state = run_code(code)\n",
    "print(state.namespaces)"
   ]
  },
  {
   "cell_type": "code",
   "execution_count": 9,
   "metadata": {},
   "outputs": [
    {
     "name": "stdout",
     "output_type": "stream",
     "text": [
      "state after execution: {'root': {'x': <lang_types.String object at 0x000002386F560B08>}}\n",
      "\n"
     ]
    }
   ],
   "source": [
    "print(f\"state after execution: {state.namespaces}\")\n",
    "print()\n",
    "    "
   ]
  },
  {
   "cell_type": "code",
   "execution_count": null,
   "metadata": {},
   "outputs": [],
   "source": [
    "\n",
    "\n",
    "\n"
   ]
  },
  {
   "cell_type": "code",
   "execution_count": null,
   "metadata": {},
   "outputs": [],
   "source": []
  },
  {
   "cell_type": "code",
   "execution_count": null,
   "metadata": {},
   "outputs": [],
   "source": []
  }
 ],
 "metadata": {
  "kernelspec": {
   "display_name": "Python 3",
   "language": "python",
   "name": "python3"
  },
  "language_info": {
   "codemirror_mode": {
    "name": "ipython",
    "version": 3
   },
   "file_extension": ".py",
   "mimetype": "text/x-python",
   "name": "python",
   "nbconvert_exporter": "python",
   "pygments_lexer": "ipython3",
   "version": "3.7.4"
  }
 },
 "nbformat": 4,
 "nbformat_minor": 4
}
