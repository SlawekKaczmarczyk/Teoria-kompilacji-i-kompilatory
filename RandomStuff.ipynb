{
 "cells": [
  {
   "cell_type": "code",
   "execution_count": 1,
   "metadata": {},
   "outputs": [
    {
     "name": "stderr",
     "output_type": "stream",
     "text": [
      "WARNING: Token 'AND' defined, but not used\n",
      "WARNING: Token 'COLON' defined, but not used\n",
      "WARNING: Token 'DIVIDE' defined, but not used\n",
      "WARNING: Token 'EOF' defined, but not used\n",
      "WARNING: Token 'OR' defined, but not used\n",
      "WARNING: Token 'TYPE_DECLARATION' defined, but not used\n",
      "WARNING: There are 6 unused tokens\n",
      "Generating LALR tables\n",
      "WARNING: 7 shift/reduce conflicts\n"
     ]
    }
   ],
   "source": [
    "import lexer_parser as lexer_parser\n",
    "lexer = lexer_parser.lexer\n",
    "parser = lexer_parser.parser\n",
    "from state import State\n",
    "\n",
    "def run_code(code,state=None):\n",
    "    result = parser.parse(lexer.input(code))\n",
    "    if state != None:\n",
    "        result.grant_state(state)\n",
    "    result.evaluate()\n",
    "    \n",
    "    return result.state\n"
   ]
  },
  {
   "cell_type": "code",
   "execution_count": 2,
   "metadata": {},
   "outputs": [
    {
     "name": "stdout",
     "output_type": "stream",
     "text": [
      "LexToken(CREATE_VAR,'var',2,9)\n",
      "LexToken(NAME,'x',2,13)\n",
      "LexToken(ASSIGN,'<-',2,15)\n",
      "LexToken(NUMBER,<lang_types.Number object at 0x00000284446A85C8>,2,18)\n",
      "LexToken(SEMICOLON,';',2,19)\n",
      "LexToken(IF,'if',3,29)\n",
      "LexToken(TRUE,'true',3,32)\n",
      "LexToken(OPEN_BRACKET,'{',3,37)\n",
      "LexToken(CREATE_VAR,'var',4,51)\n",
      "LexToken(NAME,'x',4,55)\n",
      "LexToken(ASSIGN,'<-',4,57)\n",
      "LexToken(NUMBER,<lang_types.Number object at 0x00000284446A8448>,4,60)\n",
      "LexToken(SEMICOLON,';',4,61)\n",
      "LexToken(PRINT,'print',5,75)\n",
      "LexToken(NAME,'x',5,81)\n",
      "LexToken(SEMICOLON,';',5,82)\n",
      "LexToken(CLOSE_BRACKET,'}',6,92)\n",
      "LexToken(SEMICOLON,';',6,93)\n",
      "LexToken(PRINT,'print',7,103)\n",
      "LexToken(NAME,'x',7,109)\n",
      "LexToken(SEMICOLON,';',7,110)\n",
      "\n",
      "==DONE==\n"
     ]
    }
   ],
   "source": [
    "data = \"\"\" var x9wj3_ = 1+1 -*/; : 34 { } () ., print null return fun type if else <- \"this is string/*+$\" true false\"\"\"\n",
    "\n",
    "data =\"\"\"\n",
    "        var x <- 0;\n",
    "        if true {\n",
    "            var x <- 2;\n",
    "            print x;\n",
    "        };\n",
    "        print x;\n",
    "\n",
    "        \"\"\"\n",
    "\n",
    "\n",
    "data =\"\"\"\n",
    "        var x <- 0;\n",
    "        if true {\n",
    "            var x <- 2;\n",
    "            print x;\n",
    "        };\n",
    "        print x;\n",
    "\n",
    "\"\"\"\n",
    "\n",
    "lexer.input(data)\n",
    "\n",
    "while True:\n",
    "     tok = lexer.token()\n",
    "     if not tok: \n",
    "         break\n",
    "     print(tok)\n",
    "    \n",
    "print('\\n==DONE==')"
   ]
  },
  {
   "cell_type": "code",
   "execution_count": 9,
   "metadata": {},
   "outputs": [
    {
     "name": "stdout",
     "output_type": "stream",
     "text": [
      "inside function\n",
      "{'root': {'foo': <lang_types.Function object at 0x000001769D31A7C8>}}\n"
     ]
    }
   ],
   "source": [
    "code = \"\"\"\n",
    "\n",
    "    fun foo(){\n",
    "       print \"inside function\";\n",
    "       };\n",
    "       \n",
    "       \n",
    "    foo();\n",
    "\n",
    "\n",
    "\"\"\"\n",
    "state = run_code(code)\n",
    "print(state.namespaces)"
   ]
  },
  {
   "cell_type": "code",
   "execution_count": 11,
   "metadata": {},
   "outputs": [
    {
     "name": "stdout",
     "output_type": "stream",
     "text": [
      "state after execution: {'root': {'x': <lang_types.String object at 0x000002553D2AAD08>}}\n",
      "\n"
     ]
    }
   ],
   "source": [
    "print(f\"state after execution: {state.namespaces}\")\n",
    "print()\n",
    "    "
   ]
  },
  {
   "cell_type": "code",
   "execution_count": 7,
   "metadata": {},
   "outputs": [
    {
     "name": "stdout",
     "output_type": "stream",
     "text": [
      "<bound method Bar.myFunc of <__main__.Bar object at 0x000001229CF183C8>>\n",
      "<function Foo.__getattribute__.<locals>.newfunc at 0x000001229CF150D8>\n"
     ]
    }
   ],
   "source": [
    "class Foo(object):\n",
    "    def __getattribute__(self,name):\n",
    "        attr = object.__getattribute__(self, name)\n",
    "        if hasattr(attr, '__call__'):\n",
    "            print(attr)\n",
    "            def newfunc(*args, **kwargs):\n",
    "                print('before calling %s' %attr.__name__)\n",
    "                result = attr(*args, **kwargs)\n",
    "                print('done calling %s' %attr.__name__)\n",
    "                return result\n",
    "            return newfunc\n",
    "        else:\n",
    "            return attr\n",
    "        \n",
    "class Bar(Foo):\n",
    "    def myFunc(self, data):\n",
    "        print(\"myFunc: %s\"% data)\n"
   ]
  },
  {
   "cell_type": "code",
   "execution_count": 4,
   "metadata": {},
   "outputs": [
    {
     "name": "stdout",
     "output_type": "stream",
     "text": [
      "['x']\n"
     ]
    }
   ],
   "source": []
  },
  {
   "cell_type": "code",
   "execution_count": null,
   "metadata": {},
   "outputs": [],
   "source": []
  }
 ],
 "metadata": {
  "kernelspec": {
   "display_name": "Python 3",
   "language": "python",
   "name": "python3"
  },
  "language_info": {
   "codemirror_mode": {
    "name": "ipython",
    "version": 3
   },
   "file_extension": ".py",
   "mimetype": "text/x-python",
   "name": "python",
   "nbconvert_exporter": "python",
   "pygments_lexer": "ipython3",
   "version": "3.7.4"
  }
 },
 "nbformat": 4,
 "nbformat_minor": 4
}
